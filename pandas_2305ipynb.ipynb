{
  "nbformat": 4,
  "nbformat_minor": 0,
  "metadata": {
    "colab": {
      "name": "pandas.2305ipynb",
      "provenance": []
    },
    "kernelspec": {
      "name": "python3",
      "display_name": "Python 3"
    },
    "language_info": {
      "name": "python"
    }
  },
  "cells": [
    {
      "cell_type": "code",
      "metadata": {
        "colab": {
          "base_uri": "https://localhost:8080/"
        },
        "id": "vsb5vSFmrPkb",
        "outputId": "39e8d880-07ec-420e-866c-1cfc817d7f83"
      },
      "source": [
        "import pandas \n",
        "L1=[1,2,3,4]\n",
        "series=pandas.Series(L1)\n",
        "print(series)"
      ],
      "execution_count": 4,
      "outputs": [
        {
          "output_type": "stream",
          "text": [
            "0    1\n",
            "1    2\n",
            "2    3\n",
            "3    4\n",
            "dtype: int64\n"
          ],
          "name": "stdout"
        }
      ]
    },
    {
      "cell_type": "code",
      "metadata": {
        "colab": {
          "base_uri": "https://localhost:8080/"
        },
        "id": "VGnO3PamrkxD",
        "outputId": "24f5bb5f-477c-4015-ecb2-72ebc40e8170"
      },
      "source": [
        "print(pandas.__version__)"
      ],
      "execution_count": 2,
      "outputs": [
        {
          "output_type": "stream",
          "text": [
            "1.1.5\n"
          ],
          "name": "stdout"
        }
      ]
    },
    {
      "cell_type": "code",
      "metadata": {
        "colab": {
          "base_uri": "https://localhost:8080/"
        },
        "id": "hHIWmrjOsuCP",
        "outputId": "a747a8f7-55ee-4f33-e9b6-02152346d0e0"
      },
      "source": [
        "import pandas as pd\n",
        "dict={\n",
        "    'Name':[\"Gourav\",\"Nidhi\",\"sourav\"],\n",
        "    'salary':[50000,40000,30000],\n",
        "     \"food\":[\"kajukatli\",\"sonf\",\"maggie\"],\n",
        "}\n",
        "df=pd.DataFrame(dict)\n",
        "print(df)"
      ],
      "execution_count": 7,
      "outputs": [
        {
          "output_type": "stream",
          "text": [
            "     Name  salary       food\n",
            "0  Gourav   50000  kajukatli\n",
            "1   Nidhi   40000       sonf\n",
            "2  sourav   30000     maggie\n"
          ],
          "name": "stdout"
        }
      ]
    },
    {
      "cell_type": "code",
      "metadata": {
        "colab": {
          "base_uri": "https://localhost:8080/"
        },
        "id": "PsDbePmOsuF2",
        "outputId": "4dafb83f-c0d2-4da0-9c8f-3a6f0c4ef276"
      },
      "source": [
        "import pandas as pd\n",
        "df={\"one\":pd.Series([1,2,3],index=['a','b','c']),\n",
        "   \"two\":pd.Series([1,2,3,4],index=['a','b','c','d'])}\n",
        "\n",
        "   \n",
        "print(df)"
      ],
      "execution_count": 11,
      "outputs": [
        {
          "output_type": "stream",
          "text": [
            "{'one': a    1\n",
            "b    2\n",
            "c    3\n",
            "dtype: int64, 'two': a    1\n",
            "b    2\n",
            "c    3\n",
            "d    4\n",
            "dtype: int64}\n"
          ],
          "name": "stdout"
        }
      ]
    },
    {
      "cell_type": "code",
      "metadata": {
        "colab": {
          "base_uri": "https://localhost:8080/"
        },
        "id": "8h9FuC7vsuIe",
        "outputId": "aa673f1b-d45d-43e3-8b3b-73f1b469c012"
      },
      "source": [
        "import pandas as pd\n",
        "df={\"one\":pd.Series([1,2,3],index=['a','b','c']),\n",
        "   \"two\":pd.Series([1,2,3,4],index=['a','b','c','d'])}\n",
        "df"
      ],
      "execution_count": 12,
      "outputs": [
        {
          "output_type": "execute_result",
          "data": {
            "text/plain": [
              "{'one': a    1\n",
              " b    2\n",
              " c    3\n",
              " dtype: int64, 'two': a    1\n",
              " b    2\n",
              " c    3\n",
              " d    4\n",
              " dtype: int64}"
            ]
          },
          "metadata": {
            "tags": []
          },
          "execution_count": 12
        }
      ]
    },
    {
      "cell_type": "code",
      "metadata": {
        "id": "3gxfcSzksuLb"
      },
      "source": [
        ""
      ],
      "execution_count": null,
      "outputs": []
    },
    {
      "cell_type": "code",
      "metadata": {
        "id": "KqG17Dser1vI"
      },
      "source": [
        ""
      ],
      "execution_count": null,
      "outputs": []
    }
  ]
}